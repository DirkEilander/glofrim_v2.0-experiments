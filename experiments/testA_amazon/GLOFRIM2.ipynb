{
 "cells": [
  {
   "cell_type": "markdown",
   "metadata": {},
   "source": [
    "# GLOFRIM 2.0 - Interactive notebook"
   ]
  },
  {
   "cell_type": "markdown",
   "metadata": {},
   "source": [
    "### Import some additional libs"
   ]
  },
  {
   "cell_type": "markdown",
   "metadata": {},
   "source": [
    "And then other libs only needed for this notebook, e.g. for plotting"
   ]
  },
  {
   "cell_type": "code",
   "execution_count": null,
   "metadata": {},
   "outputs": [],
   "source": [
    "%matplotlib inline\n",
    "import netCDF4\n",
    "from os.path import join\n",
    "import numpy as np\n",
    "import matplotlib.tri as tri\n",
    "import matplotlib.pyplot as plt\n",
    "import cartopy.crs as ccrs\n",
    "from cartopy.mpl.gridliner import LONGITUDE_FORMATTER, LATITUDE_FORMATTER\n",
    "import matplotlib\n",
    "from matplotlib import cm\n",
    "import pandas as pd"
   ]
  },
  {
   "cell_type": "markdown",
   "metadata": {},
   "source": [
    "We could also need some auxiliary functions for plotting etc"
   ]
  },
  {
   "cell_type": "code",
   "execution_count": null,
   "metadata": {},
   "outputs": [],
   "source": [
    "def make_map2(projection=ccrs.PlateCarree(), bounds=None, figsize=(15, 8)):\n",
    "    fig, axes = plt.subplots(1, 2, figsize=figsize, subplot_kw=dict(projection=projection, sharey=True))\n",
    "    for i, ax in enumerate(axes):\n",
    "        gl = ax.gridlines(draw_labels=True)\n",
    "        gl.xlabels_top = gl.ylabels_right = False\n",
    "        gl.xformatter = LONGITUDE_FORMATTER\n",
    "        if i == 1:\n",
    "            gl.ylabels_left = False\n",
    "        else:\n",
    "            gl.yformatter = LATITUDE_FORMATTER            \n",
    "        if bounds:\n",
    "            xmin, ymin, xmax, ymax = bounds\n",
    "            ax.set_xlim([xmin, xmax])\n",
    "            ax.set_ylim([ymin, ymax])\n",
    "    return fig, axes"
   ]
  },
  {
   "cell_type": "markdown",
   "metadata": {},
   "source": [
    "### Initialize configuration files - step 1/2 from the 2-step initialization"
   ]
  },
  {
   "cell_type": "markdown",
   "metadata": {},
   "source": [
    "the glofrim package, that's where the magic takes place!"
   ]
  },
  {
   "cell_type": "code",
   "execution_count": null,
   "metadata": {},
   "outputs": [],
   "source": [
    "from glofrim import Glofrim, PCR, CMF"
   ]
  },
  {
   "cell_type": "markdown",
   "metadata": {},
   "source": [
    "The model configuration files do not necessarily match with the GLOFRIM settings. They hence must be aligned and initialized first."
   ]
  },
  {
   "cell_type": "code",
   "execution_count": null,
   "metadata": {},
   "outputs": [],
   "source": [
    "ini_file = r'glofrim_PCR2CMF_demo.ini'"
   ]
  },
  {
   "cell_type": "markdown",
   "metadata": {},
   "source": [
    "We now need to specify all paths to the model settings files, e.g. ini-file for PCR-GLOBWB or mdu-file for Delft3D FM."
   ]
  },
  {
   "cell_type": "code",
   "execution_count": null,
   "metadata": {},
   "outputs": [],
   "source": [
    "cbmi = Glofrim()\n",
    "cbmi.initialize_config(config_fn=ini_file)"
   ]
  },
  {
   "cell_type": "code",
   "execution_count": null,
   "metadata": {},
   "outputs": [],
   "source": [
    "#- double checking which models are coupled\n",
    "models = cbmi.bmimodels.keys()\n",
    "print(models)"
   ]
  },
  {
   "cell_type": "code",
   "execution_count": null,
   "metadata": {},
   "outputs": [],
   "source": [
    "#- we can also check which variables are exchanged between the models\n",
    "cbmi.exchanges"
   ]
  },
  {
   "cell_type": "markdown",
   "metadata": {},
   "source": [
    "### the grid module"
   ]
  },
  {
   "cell_type": "code",
   "execution_count": null,
   "metadata": {},
   "outputs": [],
   "source": [
    "cbmi.bmimodels['CMF'].get_grid()\n",
    "cbmi.bmimodels['PCR'].get_grid()"
   ]
  },
  {
   "cell_type": "markdown",
   "metadata": {},
   "source": [
    "define coordinates of observatoin stations (here: Obidos)"
   ]
  },
  {
   "cell_type": "code",
   "execution_count": null,
   "metadata": {},
   "outputs": [],
   "source": [
    "# update if you're not running the Amazon model\n",
    "x_obs_coord = -55.081092\n",
    "y_obs_coord = -2.172760"
   ]
  },
  {
   "cell_type": "code",
   "execution_count": null,
   "metadata": {},
   "outputs": [],
   "source": [
    "obs_ind = dict()\n",
    "obs_xy = dict()\n",
    "for mod in models:\n",
    "    obs_ind[mod] = cbmi.index(x_obs_coord, y_obs_coord, mod, in1d=False)\n",
    "    obs_xy[mod] = cbmi.bmimodels[mod].grid.xy(ind=obs_ind[mod]) # not for ugrid\n",
    "    \n",
    "obs_ind"
   ]
  },
  {
   "cell_type": "markdown",
   "metadata": {},
   "source": [
    "visualize the grid. use upastream area to color the 1d CMF network"
   ]
  },
  {
   "cell_type": "raw",
   "metadata": {},
   "source": [
    "# read uparea for color\n",
    "uparea_fn = join(cbmi.bmimodels['CMF']._mapdir, 'uparea.bin')\n",
    "uparea = np.fromfile(uparea_fn, dtype=np.float32).reshape(cbmi.bmimodels['CMF'].grid.height, cbmi.bmimodels['CMF'].grid.width)\n",
    "uparea = uparea.flat[cbmi.bmimodels['CMF'].grid._1d.us_idx]/1e6"
   ]
  },
  {
   "cell_type": "raw",
   "metadata": {},
   "source": [
    "grid = cbmi.bmimodels['PCR'].grid\n",
    "grid._dd._set_dd()\n",
    "col, row = grid._dd._c, grid._dd._r\n",
    "x, y = grid.xy(row=grid._dd._r, col=grid._dd._c)\n",
    "x_ds, y_ds = grid.xy(row=grid._dd._r_ds, col=grid._dd._c_ds)\n",
    "# uparea_pcr = grid._dd.dd_accuflux(np.ones(grid.shape))[0] * 2.8876890e+09\n",
    "# uparea_pcr = uparea_pcr[row, col]\n",
    "# uparea_pcr.astype(np.float32).tofile('PCR_uparea.bin')\n",
    "# uparea_pcr.shape\n",
    "# uparea_pcr = np.fromfile('PCR_uparea.bin', dtype=np.float32)/1e6"
   ]
  },
  {
   "cell_type": "raw",
   "metadata": {},
   "source": [
    "%matplotlib inline\n",
    "import matplotlib as mpl\n",
    "import matplotlib\n",
    "from os.path import join\n",
    "# import seaborn as sns\n",
    "rc = {'savefig.bbox': 'tight',  'savefig.format': 'png', 'savefig.dpi':300, 'font.size':14}\n",
    "matplotlib.rcParams.update(rc)\n",
    "\n",
    "# plot\n",
    "fig, (ax, ax2) = make_map2(bounds=cbmi.bmimodels['PCR'].grid.bounds, figsize=(16,7))\n",
    "grid_collection = cbmi.bmimodels['PCR'].grid.plot_2d(ax=ax)\n",
    "grid_collection = cbmi.bmimodels['PCR'].grid.plot_2d(ax=ax2)\n",
    "ax.quiver(x, y, x_ds-x, y_ds-y, uparea_pcr, units = 'xy', scale = 1, norm=mpl.colors.LogNorm(vmin=1e2, vmax=1e8), cmap='Blues')\n",
    "quiv_collection = cbmi.bmimodels['CMF'].grid.plot_1d(ax=ax2, c=uparea, norm=mpl.colors.LogNorm(vmin=1e2, vmax=1e8), cmap='Blues')\n",
    "ax.scatter(x_obs_coord, y_obs_coord, color='r', s=36)\n",
    "ax2.scatter(x_obs_coord, y_obs_coord, color='r', s=36)\n",
    "\n",
    "posn = ax2.get_position() # fix colorbar position\n",
    "cbar_ax = fig.add_axes([0, 0, 0.1, 0.1]) # new ax at random location.\n",
    "cbar = mpl.colorbar.ColorbarBase(cbar_ax, norm=mpl.colors.LogNorm(vmin=1e2, vmax=1e8), cmap='Blues', extend='both')\n",
    "cbar.ax.set_ylabel('upstream area [km$^2$]', rotation='vertical')\n",
    "width, height = 0.015, posn.height, \n",
    "cbar_ax.set_position([posn.x0 + posn.width + 0.03, posn.y0, width, height])\n",
    "\n",
    "plt.savefig('CMF_PCR_ldd')"
   ]
  },
  {
   "cell_type": "markdown",
   "metadata": {},
   "source": [
    "### Aligning simulation period of coupled model"
   ]
  },
  {
   "cell_type": "markdown",
   "metadata": {},
   "source": [
    "GLOFRIM automatically sets the model time depending on the dates provided by the coupled models. That means that only the period will be modelled by GLOFRIM which both models have in common.\n",
    "\n",
    "Let's first see whether GLOFRIM detects differences in start and end time of models and defines the right period for the coupled run:"
   ]
  },
  {
   "cell_type": "code",
   "execution_count": null,
   "metadata": {},
   "outputs": [],
   "source": [
    "cbmi.set_attribute_value('CMF.CONF:DT', '3600')\n",
    "cbmi.set_attribute_value('CMF.CONF:LKINE', '.TRUE.')\n",
    "cbmi.set_attribute_value('CMF.CONF:LADPSTP', '.FALSE.')"
   ]
  },
  {
   "cell_type": "code",
   "execution_count": null,
   "metadata": {},
   "outputs": [],
   "source": [
    "for mod in models:\n",
    "    start_time = cbmi.bmimodels[mod].get_start_time()\n",
    "    end_time = cbmi.bmimodels[mod].get_end_time()\n",
    "    print '{:s}: start date {}; end date {}'.format(mod, start_time.date(), end_time.date())"
   ]
  },
  {
   "cell_type": "code",
   "execution_count": null,
   "metadata": {},
   "outputs": [],
   "source": [
    "start_time = cbmi.get_start_time()\n",
    "end_time = cbmi.get_end_time()\n",
    "print 'GLOFRIM: start date {}; end date {}'.format(start_time.date(), end_time.date())"
   ]
  },
  {
   "cell_type": "markdown",
   "metadata": {},
   "source": [
    "We see that GLOFRIM picks the earlier end time from CMF and uses this as end date for the coupled run.\n",
    "\n",
    "But maybe we just want to simulate a shorter period (e.g. for lunch lectures) and thus set it to a user-specified end date."
   ]
  },
  {
   "cell_type": "code",
   "execution_count": null,
   "metadata": {},
   "outputs": [],
   "source": [
    "# cbmi.set_end_time('2006-05-01')\n",
    "new_end_time = cbmi.get_end_time()\n",
    "end_time = new_end_time\n",
    "print 'GLOFRIM: start date {}; end date {}'.format(start_time.date(), end_time.date())"
   ]
  },
  {
   "cell_type": "markdown",
   "metadata": {},
   "source": [
    "### Initialize the models - step 2/2 from the 2-step initialization"
   ]
  },
  {
   "cell_type": "markdown",
   "metadata": {},
   "source": [
    "Great! We now have different models coupled in one coupled model instance and the configuration files are aligned. This instance, and therefore the individual models, can now be initialized!"
   ]
  },
  {
   "cell_type": "code",
   "execution_count": null,
   "metadata": {
    "scrolled": true
   },
   "outputs": [],
   "source": [
    "cbmi.initialize_model()"
   ]
  },
  {
   "cell_type": "code",
   "execution_count": null,
   "metadata": {},
   "outputs": [],
   "source": [
    "pcr = cbmi.bmimodels['PCR']\n",
    "cmf = cbmi.bmimodels['CMF']"
   ]
  },
  {
   "cell_type": "code",
   "execution_count": null,
   "metadata": {},
   "outputs": [],
   "source": [
    "# pcr.update()\n",
    "# np.nansum(pcr.get_value('runoff') * pcr.get_value('cellArea'))"
   ]
  },
  {
   "cell_type": "raw",
   "metadata": {},
   "source": [
    "cmf.update(dt=86400)\n",
    "cmf.get_current_time()"
   ]
  },
  {
   "cell_type": "raw",
   "metadata": {},
   "source": [
    "cmf.set_value('roffin', pcr.get_value('runoff'))\n",
    "np.nansum(cmf.get_value('roffin') * pcr.get_value('cellArea'))\n",
    "cmf.update()\n",
    "cmf.get_current_time()\n",
    "np.nansum(cmf.get_value('runoff') * 86400)"
   ]
  },
  {
   "cell_type": "markdown",
   "metadata": {},
   "source": [
    "### Something easy for the start - basic skills of the BMI"
   ]
  },
  {
   "cell_type": "markdown",
   "metadata": {},
   "source": [
    "Run one time step"
   ]
  },
  {
   "cell_type": "raw",
   "metadata": {},
   "source": [
    "cbmi.update()"
   ]
  },
  {
   "cell_type": "raw",
   "metadata": {},
   "source": [
    "PCR_runoff = cbmi.get_value('PCR.runoff')\n",
    "PCR_runoff"
   ]
  },
  {
   "cell_type": "markdown",
   "metadata": {},
   "source": [
    "### Run coupled model"
   ]
  },
  {
   "cell_type": "code",
   "execution_count": null,
   "metadata": {
    "scrolled": false
   },
   "outputs": [],
   "source": [
    "from bokeh.plotting import figure, show\n",
    "from bokeh.models.sources import ColumnDataSource\n",
    "from bokeh.io import output_notebook, push_notebook\n",
    "import time\n",
    "from datetime import datetime, timedelta\n",
    "%matplotlib inline\n",
    "output_notebook()\n",
    "\n",
    "\n",
    "discharge_vars = {'PCR': 'PCR.discharge', 'CMF': 'CMF.outflw'}\n",
    "discharge_data = ColumnDataSource(data = {k: [] for k in ['time'] + discharge_vars.keys()})\n",
    "\n",
    "p = figure(title=\"GLOFRIM discharge simulations\", plot_height=350, plot_width=800, x_axis_type='datetime')\n",
    "line_pcr = p.line(\"time\", \"PCR\", source=discharge_data, color=\"red\", legend='PCRGLOB-WB')\n",
    "line_cmf = p.line(\"time\", \"CMF\", source=discharge_data, color=\"green\", legend='CaMa-Flood')\n",
    "p.yaxis.bounds = (1e3, 5e5)\n",
    "p.yaxis.axis_label = 'Discharge [m3/s]'\n",
    "p.legend.location = 'top_left'\n",
    "target = show(p, notebook_handle=True)"
   ]
  },
  {
   "cell_type": "markdown",
   "metadata": {},
   "source": [
    "Then the coupled models are updated until the GLOFRIM end time is reached:"
   ]
  },
  {
   "cell_type": "code",
   "execution_count": null,
   "metadata": {
    "scrolled": true
   },
   "outputs": [],
   "source": [
    "while cbmi.get_current_time() < cbmi.get_end_time():\n",
    "    cbmi.update()\n",
    "    new_data = dict(time=[cbmi.get_current_time()])\n",
    "    for mod in discharge_vars:\n",
    "        new_data.update({mod: cbmi.get_value_at_indices(discharge_vars[mod], obs_ind[mod])})\n",
    "    discharge_data.stream(new_data)\n",
    "    push_notebook(handle=target)"
   ]
  },
  {
   "cell_type": "markdown",
   "metadata": {},
   "source": [
    "To correctly close all model processes and variables, the coupled models are finalized"
   ]
  },
  {
   "cell_type": "code",
   "execution_count": null,
   "metadata": {},
   "outputs": [],
   "source": [
    "cbmi.finalize()"
   ]
  },
  {
   "cell_type": "markdown",
   "metadata": {},
   "source": [
    "Sweet, that's it!"
   ]
  }
 ],
 "metadata": {
  "kernelspec": {
   "display_name": "Python [conda env:glofrim]",
   "language": "python",
   "name": "conda-env-glofrim-py"
  },
  "language_info": {
   "codemirror_mode": {
    "name": "ipython",
    "version": 2
   },
   "file_extension": ".py",
   "mimetype": "text/x-python",
   "name": "python",
   "nbconvert_exporter": "python",
   "pygments_lexer": "ipython2",
   "version": "2.7.15"
  }
 },
 "nbformat": 4,
 "nbformat_minor": 2
}
