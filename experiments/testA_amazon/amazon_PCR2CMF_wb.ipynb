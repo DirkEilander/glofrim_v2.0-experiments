{
 "cells": [
  {
   "cell_type": "code",
   "execution_count": null,
   "metadata": {},
   "outputs": [],
   "source": [
    "import pandas as pd\n",
    "from os.path import join"
   ]
  },
  {
   "cell_type": "code",
   "execution_count": null,
   "metadata": {},
   "outputs": [],
   "source": [
    "ddir = r'/home/dirk/experiments/model_test_data/test_Amazon'\n",
    "root = r'glofrim_PCR2CMF_demo'\n",
    "fn_wb = join(ddir, root + '.wb')\n",
    "fn_outflw = join(ddir, root + '_CMFrivmth_outflw.csv')"
   ]
  },
  {
   "cell_type": "code",
   "execution_count": null,
   "metadata": {},
   "outputs": [],
   "source": [
    "CMF_wb = pd.read_csv(fn_wb, index_col=0, parse_dates=['time']).resample('A').sum()\n",
    "CMF_wb.columns = ['tot_in_m3']\n",
    "outflw = pd.read_csv(fn_outflw, index_col=0, parse_dates=[0])\n",
    "neg_outflw = outflw[outflw<0].sum(axis=1).resample('A').sum()*86400\n",
    "CMF_wb['tot_out_m3'] = outflw[outflw>0].sum(axis=1).resample('A').sum()*86400\n",
    "\n",
    "CMF_wb['ratio'] = CMF_wb['tot_in_m3']/CMF_wb['tot_out_m3']\n",
    "CMF_wb"
   ]
  }
 ],
 "metadata": {
  "kernelspec": {
   "display_name": "Python [default]",
   "language": "python",
   "name": "python2"
  },
  "language_info": {
   "codemirror_mode": {
    "name": "ipython",
    "version": 2
   },
   "file_extension": ".py",
   "mimetype": "text/x-python",
   "name": "python",
   "nbconvert_exporter": "python",
   "pygments_lexer": "ipython2",
   "version": "2.7.15"
  }
 },
 "nbformat": 4,
 "nbformat_minor": 2
}
